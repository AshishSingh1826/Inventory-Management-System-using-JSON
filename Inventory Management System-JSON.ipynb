{
 "cells": [
  {
   "cell_type": "code",
   "execution_count": 36,
   "id": "6b322d67",
   "metadata": {},
   "outputs": [
    {
     "name": "stdout",
     "output_type": "stream",
     "text": [
      "----------------MENU-------------------\n",
      "\n",
      "1001 : 5 Star | 10 | 180\n",
      "1002 : Bar-One | 20 | 198\n",
      "1003 : Candy | 2 | 1000\n",
      "1004 : Chocolate Cake | 550 | 8\n",
      "1005 : Blueberry Cake | 650 | 5\n",
      "---------------------------------------\n",
      "\n",
      "Enter your name    : Anshika\n",
      "Enter your email   : anshika1889@gmail.com\n",
      "Enter your phone no: 5564673\n",
      "Enter Product ID   : 1003\n",
      "Enter Quantity     : 50\n",
      "-----------------------------------------\n",
      "                Bill                   \n",
      "\n",
      "Product Name   :  Candy\n",
      "Price          :  2 Rs\n",
      "Quantity       :  50\n",
      "------------------------------------------\n",
      "Billing Amount :  100 Rs\n",
      "------------------------------------------\n"
     ]
    }
   ],
   "source": [
    "import json\n",
    "import time\n",
    "\n",
    "# we are doing this to print an empty space when the user doesn't want to purchase anything\n",
    "sales=''\n",
    "\n",
    "# Importing Inventory data from Record.json file and converting it to string\n",
    "fd=open(\"Records.json\",\"r\")\n",
    "js=fd.read()\n",
    "fd.close()\n",
    "\n",
    "# Converting String data to Dictionary/JSON\n",
    "record=json.loads(js)\n",
    "\n",
    "\n",
    "# Displaying Menu\n",
    "print(\"----------------MENU-------------------\\n\")\n",
    "for key in record.keys():\n",
    "    print(key,':',record[key]['Name'],'|',record[key]['Price'],'|',record[key]['Quantity'])\n",
    "print(\"---------------------------------------\\n\")\n",
    "\n",
    "\n",
    "# Taking Inputs from the user about their details and purchase\n",
    "u_name   =str(input(\"Enter your name    : \"))\n",
    "u_email  =str(input(\"Enter your email   : \"))\n",
    "u_phone  =str(input(\"Enter your phone no: \"))\n",
    "u_prod_id=str(input(\"Enter Product ID   : \"))\n",
    "u_prod_Qn=int(input(\"Enter Quantity     : \"))\n",
    "\n",
    "# If we're having equal or more quantity then the user wants\n",
    "if(record[u_prod_id]['Quantity']>=u_prod_Qn):\n",
    "    \n",
    "\n",
    "\n",
    "    print(\"-----------------------------------------\")\n",
    "    print(\"                Bill                   \\n\")\n",
    "\n",
    "    print(\"Product Name   : \",record[u_prod_id]['Name'])\n",
    "    print(\"Price          : \",record[u_prod_id]['Price'],\"Rs\")\n",
    "    print(\"Quantity       : \",u_prod_Qn)\n",
    "\n",
    "    print(\"------------------------------------------\")\n",
    "    print(\"Billing Amount : \",record[u_prod_id]['Price'] * u_prod_Qn,\"Rs\")\n",
    "    print(\"------------------------------------------\")\n",
    "    \n",
    "    # Updating Inventory in Dictionary\n",
    "    record[u_prod_id]['Quantity']= record[u_prod_id]['Quantity'] - u_prod_Qn\n",
    "    \n",
    "    # Generating Transection Detail\n",
    "    sales=u_name+\",\"+u_email+\",\"+u_phone+\",\"+u_prod_id+\",\"+record[u_prod_id]['Name']+\",\"+str(u_prod_Qn)+\",\"+str(record[u_prod_id]['Price'])+\",\"+str(record[u_prod_id]['Price'] * u_prod_Qn)+\",\"+time.ctime()+'\\n'\n",
    "\n",
    "# If we're less quantity then the user wants    \n",
    "else:\n",
    "    print(\"Sorry, We're not having enough quantity!!!\")\n",
    "    print(\"We're only having\",record[u_prod_id]['Quantity'],\"quantity.\")\n",
    "    print(\"------------------------------------------\")\n",
    "    ch=str(input(\"Enter Y/y to purchase\"))\n",
    "    \n",
    "    # If user wants to purchase the whole quantity for that product\n",
    "    if(ch==\"Y\" or ch==\"y\"):\n",
    "        print(\"-----------------------------------------\")\n",
    "        print(\"                Bill                   \\n\")\n",
    "\n",
    "        print(\"Product Name   : \",record[u_prod_id]['Name'])\n",
    "        print(\"Price          : \",record[u_prod_id]['Price'],\"Rs\")\n",
    "        print(\"Quantity       : \",record[u_prod_id]['Quantity'])\n",
    "\n",
    "        print(\"------------------------------------------\")\n",
    "        print(\"Billing Amount : \",record[u_prod_id]['Price'] * record[u_prod_id]['Quantity'],\"Rs\")\n",
    "        print(\"------------------------------------------\")\n",
    "        \n",
    "        # Updating Inventory in Dictionary\n",
    "        record[u_prod_id]['Quantity']= 0\n",
    "        \n",
    "        # Generating Transection Detail\n",
    "        sales=u_name+\",\"+u_email+\",\"+u_phone+\",\"+u_prod_id+\",\"+record[u_prod_id]['Name']+\",\"+str(record[u_prod_id]['Quantity'])+\",\"+str(record[u_prod_id]['Price'])+\",\"+str(record[u_prod_id]['Price'] * record[u_prod_id]['Quantity'])+\",\"+time.ctime()+'\\n'\n",
    "\n",
    "        \n",
    "    # If user pressed anything except Y or y    \n",
    "    else:\n",
    "        print(\"Thank you\")\n",
    "    \n",
    "# Converting Inventory Dictionary to String so that we can save that string on json format\n",
    "js = json.dumps(record)\n",
    "\n",
    "# Updating Inventory and Saving in to my Records.json\n",
    "fd = open(\"Records.json\",\"w\")\n",
    "fd.write(js)\n",
    "fd.close()\n",
    "\n",
    "# Adding Transection on Sales File\n",
    "fd=open(\"Sales.txt\",\"a\")\n",
    "fd.write(sales)\n",
    "fd.close()\n"
   ]
  },
  {
   "cell_type": "code",
   "execution_count": 23,
   "id": "16e190e7",
   "metadata": {},
   "outputs": [
    {
     "data": {
      "text/plain": [
       "'1,Ashish Singh,ashish@gmail.com,645454644646,1004,Chocolate Cake,8,550,4400,Tue Jul 18 11:02:40 2023'"
      ]
     },
     "execution_count": 23,
     "metadata": {},
     "output_type": "execute_result"
    }
   ],
   "source": [
    "sales"
   ]
  },
  {
   "cell_type": "code",
   "execution_count": 35,
   "id": "fed90885",
   "metadata": {},
   "outputs": [],
   "source": []
  },
  {
   "cell_type": "code",
   "execution_count": null,
   "id": "ea09c7af",
   "metadata": {},
   "outputs": [],
   "source": []
  }
 ],
 "metadata": {
  "kernelspec": {
   "display_name": "Python 3 (ipykernel)",
   "language": "python",
   "name": "python3"
  },
  "language_info": {
   "codemirror_mode": {
    "name": "ipython",
    "version": 3
   },
   "file_extension": ".py",
   "mimetype": "text/x-python",
   "name": "python",
   "nbconvert_exporter": "python",
   "pygments_lexer": "ipython3",
   "version": "3.10.9"
  }
 },
 "nbformat": 4,
 "nbformat_minor": 5
}
